{
 "cells": [
  {
   "cell_type": "markdown",
   "id": "8b7f455e",
   "metadata": {},
   "source": [
    "## Let's try using Notebooks!"
   ]
  },
  {
   "cell_type": "markdown",
   "id": "01458ef4",
   "metadata": {},
   "source": [
    "### Let's make sure you have Python set up!"
   ]
  },
  {
   "cell_type": "code",
   "execution_count": null,
   "id": "14ce1623",
   "metadata": {},
   "outputs": [],
   "source": [
    "import sys, platform\n",
    "print(\"✅ Python executable:\", sys.executable)\n",
    "print(\"✅ Python version:\", sys.version.split()[0])\n",
    "print(\"✅ Platform:\", platform.platform())\n",
    "print(\"Tip: If this cell fails or is NOT responsive, check the **Kernel** in the toolbar and switch to Python 3.\")"
   ]
  },
  {
   "cell_type": "markdown",
   "id": "4e372d0d",
   "metadata": {},
   "source": [
    "### Now let's create a bar chart"
   ]
  },
  {
   "cell_type": "code",
   "execution_count": null,
   "id": "def0f66a",
   "metadata": {},
   "outputs": [],
   "source": [
    "import matplotlib.pyplot as plt\n",
    "import numpy as np\n",
    "\n",
    "# Sample data\n",
    "categories = ['A', 'B', 'C', 'D', 'E']\n",
    "values = [70, 80, 100, 50, 45]\n",
    "\n",
    "# Create bar chart\n",
    "plt.figure(figsize=(8, 6))\n",
    "plt.bar(categories, values)\n",
    "plt.xlabel('Classroom')\n",
    "plt.ylabel('Attendance (%)')\n",
    "plt.title('Attendance to Classes by Classroom')\n",
    "plt.show()"
   ]
  },
  {
   "cell_type": "markdown",
   "id": "a362477d",
   "metadata": {},
   "source": [
    "### Now let's run the following cells in sequence"
   ]
  },
  {
   "cell_type": "code",
   "execution_count": null,
   "id": "551974ba",
   "metadata": {},
   "outputs": [],
   "source": [
    "# Define a configuration value (used later)\n",
    "DATA_POINTS = 7\n",
    "print(\"Configured to generate\", DATA_POINTS, \"data points.\")"
   ]
  },
  {
   "cell_type": "code",
   "execution_count": null,
   "id": "90def6c8",
   "metadata": {},
   "outputs": [],
   "source": [
    "# Create a tiny dataset that depends on DATA_POINTS\n",
    "import math\n",
    "from datetime import datetime, timedelta\n",
    "\n",
    "now = datetime.now()\n",
    "xs = list(range(DATA_POINTS))\n",
    "ys = [round(math.sin(i/2), 3) for i in xs]\n",
    "ts = [now + timedelta(minutes=i) for i in xs]\n",
    "\n",
    "print(\"Generated\", len(xs), \"rows.\")"
   ]
  },
  {
   "cell_type": "code",
   "execution_count": null,
   "id": "06ddae70",
   "metadata": {},
   "outputs": [],
   "source": [
    "# Summarize based on previous xs, ys, and ts\n",
    "avg = sum(ys)/len(ys)\n",
    "mx = max(ys)\n",
    "mn = min(ys)\n",
    "summary = {\"count\": len(ys), \"avg\": round(avg,3), \"max\": mx, \"min\": mn}\n",
    "summary"
   ]
  },
  {
   "cell_type": "markdown",
   "id": "8104b25e",
   "metadata": {},
   "source": [
    "### This will FAIL if you didn't run cells above first. If you did and still fails, ask AI for help."
   ]
  },
  {
   "cell_type": "code",
   "execution_count": null,
   "id": "56ab544f",
   "metadata": {},
   "outputs": [],
   "source": [
    "assert 'summary' in globals(), \"Run cells 1A–1C first (or try **Run All Above**)\"\n",
    "print(\"✅ Dependent step finished. Summary:\", summar)"
   ]
  },
  {
   "cell_type": "raw",
   "id": "b5401f03",
   "metadata": {
    "vscode": {
     "languageId": "raw"
    }
   },
   "source": [
    "# Last task: Can you change this from raw to Markdown Cell for better formatting?"
   ]
  }
 ],
 "metadata": {
  "language_info": {
   "name": "python"
  }
 },
 "nbformat": 4,
 "nbformat_minor": 5
}
